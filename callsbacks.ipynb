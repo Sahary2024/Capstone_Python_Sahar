{
  "nbformat": 4,
  "nbformat_minor": 0,
  "metadata": {
    "colab": {
      "provenance": []
    },
    "kernelspec": {
      "name": "python3",
      "display_name": "Python 3"
    },
    "language_info": {
      "name": "python"
    }
  },
  "cells": [
    {
      "cell_type": "code",
      "execution_count": 1,
      "metadata": {
        "colab": {
          "base_uri": "https://localhost:8080/",
          "height": 385
        },
        "id": "_fLJq4rhs5Q5",
        "outputId": "a6388ef0-599e-490e-db12-11eeea3cfe56"
      },
      "outputs": [
        {
          "output_type": "error",
          "ename": "ModuleNotFoundError",
          "evalue": "No module named 'dash'",
          "traceback": [
            "\u001b[0;31m---------------------------------------------------------------------------\u001b[0m",
            "\u001b[0;31mModuleNotFoundError\u001b[0m                       Traceback (most recent call last)",
            "\u001b[0;32m/tmp/ipython-input-1-85075049.py\u001b[0m in \u001b[0;36m<cell line: 0>\u001b[0;34m()\u001b[0m\n\u001b[1;32m      1\u001b[0m \u001b[0;32mimport\u001b[0m \u001b[0mpandas\u001b[0m \u001b[0;32mas\u001b[0m \u001b[0mpd\u001b[0m\u001b[0;34m\u001b[0m\u001b[0;34m\u001b[0m\u001b[0m\n\u001b[1;32m      2\u001b[0m \u001b[0;32mimport\u001b[0m \u001b[0mplotly\u001b[0m\u001b[0;34m.\u001b[0m\u001b[0mexpress\u001b[0m \u001b[0;32mas\u001b[0m \u001b[0mpx\u001b[0m\u001b[0;34m\u001b[0m\u001b[0;34m\u001b[0m\u001b[0m\n\u001b[0;32m----> 3\u001b[0;31m \u001b[0;32mfrom\u001b[0m \u001b[0mdash\u001b[0m \u001b[0;32mimport\u001b[0m \u001b[0mDash\u001b[0m\u001b[0;34m,\u001b[0m \u001b[0mdcc\u001b[0m\u001b[0;34m,\u001b[0m \u001b[0mhtml\u001b[0m\u001b[0;34m,\u001b[0m \u001b[0mInput\u001b[0m\u001b[0;34m,\u001b[0m \u001b[0mOutput\u001b[0m\u001b[0;34m\u001b[0m\u001b[0;34m\u001b[0m\u001b[0m\n\u001b[0m\u001b[1;32m      4\u001b[0m \u001b[0;32mfrom\u001b[0m \u001b[0mpyngrok\u001b[0m \u001b[0;32mimport\u001b[0m \u001b[0mngrok\u001b[0m\u001b[0;34m\u001b[0m\u001b[0;34m\u001b[0m\u001b[0m\n\u001b[1;32m      5\u001b[0m \u001b[0;34m\u001b[0m\u001b[0m\n",
            "\u001b[0;31mModuleNotFoundError\u001b[0m: No module named 'dash'",
            "",
            "\u001b[0;31m---------------------------------------------------------------------------\u001b[0;32m\nNOTE: If your import is failing due to a missing package, you can\nmanually install dependencies using either !pip or !apt.\n\nTo view examples of installing some common dependencies, click the\n\"Open Examples\" button below.\n\u001b[0;31m---------------------------------------------------------------------------\u001b[0m\n"
          ],
          "errorDetails": {
            "actions": [
              {
                "action": "open_url",
                "actionText": "Open Examples",
                "url": "/notebooks/snippets/importing_libraries.ipynb"
              }
            ]
          }
        }
      ],
      "source": [
        "import pandas as pd\n",
        "import plotly.express as px\n",
        "from dash import Dash, dcc, html, Input, Output\n",
        "from pyngrok import ngrok\n",
        "\n",
        "data = pd.DataFrame({\n",
        "    'Year': [2020, 2020, 2021, 2021, 2022, 2022],\n",
        "    'Sector': ['Tech', 'Finance', 'Tech', 'Finance', 'Tech', 'Finance'],\n",
        "    'GDP': [100, 120, 130, 125, 150, 140],\n",
        "    'Recession': [0, 1, 0, 1, 0, 0]\n",
        "})\n",
        "\n",
        "app = Dash(__name__)\n",
        "\n",
        "app.layout = html.Div([\n",
        "    html.H2(\"GDP Statistics Dashboard\"),\n",
        "\n",
        "    dcc.Dropdown(\n",
        "        id='stats-dropdown',\n",
        "        options=[\n",
        "            {'label': 'Yearly Statistics', 'value': 'Yearly Statistics'},\n",
        "            {'label': 'Recession Period Statistics', 'value': 'Recession Period Statistics'}\n",
        "        ],\n",
        "        value='Yearly Statistics'\n",
        "    ),\n",
        "\n",
        "    dcc.Dropdown(\n",
        "        id='input-container',\n",
        "        options=[{'label': year, 'value': year} for year in sorted(data['Year'].unique())],\n",
        "        value=2021\n",
        "    ),\n",
        "\n",
        "    html.Div(id='output-container', className='chart-grid', style={'display': 'flex'})\n",
        "])\n",
        "\n",
        "@app.callback(\n",
        "    Output('input-container', 'disabled'),\n",
        "    Input('stats-dropdown', 'value')\n",
        ")\n",
        "def update_input_container(selected_stat):\n",
        "    if selected_stat == 'Yearly Statistics':\n",
        "        return False\n",
        "    else:\n",
        "        return True\n",
        "\n",
        "@app.callback(\n",
        "    Output('output-container', 'children'),\n",
        "    [Input('stats-dropdown', 'value'),\n",
        "     Input('input-container', 'value')]\n",
        ")\n",
        "def update_output_container(selected_stat, selected_value):\n",
        "    if selected_stat == 'Recession Period Statistics':\n",
        "        filtered = data[data['Recession'] == 1]\n",
        "        fig = px.line(filtered, x='Year', y='GDP', color='Sector',\n",
        "                      title='GDP During Recession Periods')\n",
        "        return dcc.Graph(figure=fig)\n",
        "\n",
        "    elif selected_stat == 'Yearly Statistics':\n",
        "        filtered = data[data['Year'] == selected_value]\n",
        "        fig = px.bar(filtered, x='Sector', y='GDP',\n",
        "                     title=f'GDP by Sector in {selected_value}')\n",
        "        return dcc.Graph(figure=fig)\n",
        "\n",
        "    else:\n",
        "        return html.Div(\"Please select a valid statistics option.\")\n",
        "\n",
        "public_url = ngrok.connect(8050)\n",
        "print(f\"🚀 App is running at: {public_url}\")\n",
        "\n",
        "app.run(port=8050)"
      ]
    },
    {
      "cell_type": "code",
      "source": [
        "!pip install dash dash-bootstrap-components pyngrok plotly pandas --quiet"
      ],
      "metadata": {
        "colab": {
          "base_uri": "https://localhost:8080/"
        },
        "id": "XURCLmaVtfcW",
        "outputId": "1f9fabc4-cb6b-431f-bdb5-1c7d9707b76f"
      },
      "execution_count": 2,
      "outputs": [
        {
          "output_type": "stream",
          "name": "stdout",
          "text": [
            "\u001b[?25l   \u001b[90m━━━━━━━━━━━━━━━━━━━━━━━━━━━━━━━━━━━━━━━━\u001b[0m \u001b[32m0.0/7.9 MB\u001b[0m \u001b[31m?\u001b[0m eta \u001b[36m-:--:--\u001b[0m\r\u001b[2K   \u001b[91m━━━━━━━━━━━━━━━━━━━━━━━━\u001b[0m\u001b[90m╺\u001b[0m\u001b[90m━━━━━━━━━━━━━━━\u001b[0m \u001b[32m4.8/7.9 MB\u001b[0m \u001b[31m144.7 MB/s\u001b[0m eta \u001b[36m0:00:01\u001b[0m\r\u001b[2K   \u001b[91m━━━━━━━━━━━━━━━━━━━━━━━━━━━━━━━━━━━━━━━\u001b[0m\u001b[91m╸\u001b[0m \u001b[32m7.9/7.9 MB\u001b[0m \u001b[31m163.4 MB/s\u001b[0m eta \u001b[36m0:00:01\u001b[0m\r\u001b[2K   \u001b[90m━━━━━━━━━━━━━━━━━━━━━━━━━━━━━━━━━━━━━━━━\u001b[0m \u001b[32m7.9/7.9 MB\u001b[0m \u001b[31m100.3 MB/s\u001b[0m eta \u001b[36m0:00:00\u001b[0m\n",
            "\u001b[?25h\u001b[?25l   \u001b[90m━━━━━━━━━━━━━━━━━━━━━━━━━━━━━━━━━━━━━━━━\u001b[0m \u001b[32m0.0/203.7 kB\u001b[0m \u001b[31m?\u001b[0m eta \u001b[36m-:--:--\u001b[0m\r\u001b[2K   \u001b[90m━━━━━━━━━━━━━━━━━━━━━━━━━━━━━━━━━━━━━━━━\u001b[0m \u001b[32m203.7/203.7 kB\u001b[0m \u001b[31m16.8 MB/s\u001b[0m eta \u001b[36m0:00:00\u001b[0m\n",
            "\u001b[?25h\u001b[?25l   \u001b[90m━━━━━━━━━━━━━━━━━━━━━━━━━━━━━━━━━━━━━━━━\u001b[0m \u001b[32m0.0/101.7 kB\u001b[0m \u001b[31m?\u001b[0m eta \u001b[36m-:--:--\u001b[0m\r\u001b[2K   \u001b[90m━━━━━━━━━━━━━━━━━━━━━━━━━━━━━━━━━━━━━━━━\u001b[0m \u001b[32m101.7/101.7 kB\u001b[0m \u001b[31m7.7 MB/s\u001b[0m eta \u001b[36m0:00:00\u001b[0m\n",
            "\u001b[?25h\u001b[?25l   \u001b[90m━━━━━━━━━━━━━━━━━━━━━━━━━━━━━━━━━━━━━━━━\u001b[0m \u001b[32m0.0/228.0 kB\u001b[0m \u001b[31m?\u001b[0m eta \u001b[36m-:--:--\u001b[0m\r\u001b[2K   \u001b[90m━━━━━━━━━━━━━━━━━━━━━━━━━━━━━━━━━━━━━━━━\u001b[0m \u001b[32m228.0/228.0 kB\u001b[0m \u001b[31m17.9 MB/s\u001b[0m eta \u001b[36m0:00:00\u001b[0m\n",
            "\u001b[?25h"
          ]
        }
      ]
    },
    {
      "cell_type": "code",
      "source": [
        "import pandas as pd\n",
        "import plotly.express as px\n",
        "from dash import Dash, dcc, html, Input, Output\n",
        "from pyngrok import ngrok\n",
        "ngrok.set_auth_token(\"2yrgPgfmZAvPFWuwVayB6pmDrjL_2MQJfu8zhJgaWzCW7Cm64\")\n",
        "data = pd.DataFrame({\n",
        "    'Year': [2020, 2020, 2021, 2021, 2022, 2022],\n",
        "    'Sector': ['Tech', 'Finance', 'Tech', 'Finance', 'Tech', 'Finance'],\n",
        "    'GDP': [100, 120, 130, 125, 150, 140],\n",
        "    'Recession': [0, 1, 0, 1, 0, 0]\n",
        "})\n",
        "app = Dash(__name__)\n",
        "app.layout = html.Div([\n",
        "    html.H2(\"GDP Statistics Dashboard\"),\n",
        "    dcc.Dropdown(\n",
        "        id='stats-dropdown',\n",
        "        options=[\n",
        "            {'label': 'Yearly Statistics', 'value': 'Yearly Statistics'},\n",
        "            {'label': 'Recession Period Statistics', 'value': 'Recession Period Statistics'}\n",
        "        ],\n",
        "        value='Yearly Statistics'\n",
        "    ),\n",
        "    dcc.Dropdown(\n",
        "        id='input-container',\n",
        "        options=[{'label': year, 'value': year} for year in sorted(data['Year'].unique())],\n",
        "        value=2021\n",
        "    ),\n",
        "\n",
        "    html.Div(id='output-container', className='chart-grid', style={'display': 'flex'})\n",
        "])\n",
        "\n",
        "@app.callback(\n",
        "    Output('input-container', 'disabled'),\n",
        "    Input('stats-dropdown', 'value')\n",
        ")\n",
        "def update_input_container(selected_stat):\n",
        "    if selected_stat == 'Yearly Statistics':\n",
        "        return False\n",
        "    else:\n",
        "        return True\n",
        "\n",
        "@app.callback(\n",
        "    Output('output-container', 'children'),\n",
        "    [Input('stats-dropdown', 'value'),\n",
        "     Input('input-container', 'value')]\n",
        ")\n",
        "def update_output_container(selected_stat, selected_value):\n",
        "    if selected_stat == 'Recession Period Statistics':\n",
        "        filtered = data[data['Recession'] == 1]\n",
        "        fig = px.line(filtered, x='Year', y='GDP', color='Sector',\n",
        "                      title='GDP During Recession Periods')\n",
        "        return dcc.Graph(figure=fig)\n",
        "\n",
        "    elif selected_stat == 'Yearly Statistics':\n",
        "        filtered = data[data['Year'] == selected_value]\n",
        "        fig = px.bar(filtered, x='Sector', y='GDP',\n",
        "                     title=f'GDP by Sector in {selected_value}')\n",
        "        return dcc.Graph(figure=fig)\n",
        "\n",
        "    else:\n",
        "        return html.Div(\"Please select a valid statistics option.\")\n",
        "\n",
        "\n",
        "public_url = ngrok.connect(8050)\n",
        "print(f\"🚀 App is running at: {public_url}\")\n",
        "\n",
        "app.run(port=8050)"
      ],
      "metadata": {
        "colab": {
          "base_uri": "https://localhost:8080/",
          "height": 688
        },
        "id": "DppXXF1Et7uo",
        "outputId": "8e234a47-ba0f-4d85-aff2-b6b86fdff8bc"
      },
      "execution_count": 4,
      "outputs": [
        {
          "output_type": "stream",
          "name": "stdout",
          "text": [
            "🚀 App is running at: NgrokTunnel: \"https://4c8d-35-221-31-136.ngrok-free.app\" -> \"http://localhost:8050\"\n"
          ]
        },
        {
          "output_type": "display_data",
          "data": {
            "text/plain": [
              "<IPython.core.display.Javascript object>"
            ],
            "application/javascript": [
              "(async (port, path, width, height, cache, element) => {\n",
              "    if (!google.colab.kernel.accessAllowed && !cache) {\n",
              "      return;\n",
              "    }\n",
              "    element.appendChild(document.createTextNode(''));\n",
              "    const url = await google.colab.kernel.proxyPort(port, {cache});\n",
              "    const iframe = document.createElement('iframe');\n",
              "    iframe.src = new URL(path, url).toString();\n",
              "    iframe.height = height;\n",
              "    iframe.width = width;\n",
              "    iframe.style.border = 0;\n",
              "    iframe.allow = [\n",
              "        'accelerometer',\n",
              "        'autoplay',\n",
              "        'camera',\n",
              "        'clipboard-read',\n",
              "        'clipboard-write',\n",
              "        'gyroscope',\n",
              "        'magnetometer',\n",
              "        'microphone',\n",
              "        'serial',\n",
              "        'usb',\n",
              "        'xr-spatial-tracking',\n",
              "    ].join('; ');\n",
              "    element.appendChild(iframe);\n",
              "  })(8050, \"/\", \"100%\", 650, false, window.element)"
            ]
          },
          "metadata": {}
        }
      ]
    }
  ]
}